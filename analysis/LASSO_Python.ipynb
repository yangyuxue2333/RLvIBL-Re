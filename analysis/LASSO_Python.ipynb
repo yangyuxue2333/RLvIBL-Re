{
 "cells": [
  {
   "cell_type": "code",
   "execution_count": 1,
   "id": "927cfcb5-0b2a-4e37-b8e0-9848ae582558",
   "metadata": {},
   "outputs": [
    {
     "data": {
      "text/plain": [
       "'/Users/cheryang/Documents/GitProject/RL-IBL-Re'"
      ]
     },
     "execution_count": 1,
     "metadata": {},
     "output_type": "execute_result"
    }
   ],
   "source": [
    "\n",
    "import pandas as pd\n",
    "import os\n",
    "import numpy as np\n",
    "\n",
    "\n",
    "# root_dir = os.path.dirname(os.path.dirname(os.path.abspath(\"__file__\")))  \n",
    "root_dir = \"/Users/cheryang/Documents/GitProject/RL-IBL-Re\"\n",
    "os.chdir(root_dir)\n",
    "os.getcwd()"
   ]
  },
  {
   "cell_type": "markdown",
   "id": "d1127e98-6e9e-4a01-8057-767d7446c0da",
   "metadata": {},
   "source": [
    "## Load Data"
   ]
  },
  {
   "cell_type": "code",
   "execution_count": 2,
   "id": "15a86351-7cbe-4b08-80ab-cd90d2f72b88",
   "metadata": {},
   "outputs": [],
   "source": [
    "X = pd.read_csv(\"./data/X.csv\", index_col=0) \n",
    "Y = pd.read_csv(\"./data/Y.csv\", index_col=0).rename(columns={\"x\":\"y\"})\n",
    "y = np.ravel(Y)"
   ]
  },
  {
   "cell_type": "code",
   "execution_count": 3,
   "id": "029fb69f-4f40-44a2-9fb4-c9c6151dca2d",
   "metadata": {},
   "outputs": [
    {
     "data": {
      "text/plain": [
       "((176, 624), (176,))"
      ]
     },
     "execution_count": 3,
     "metadata": {},
     "output_type": "execute_result"
    }
   ],
   "source": [
    "X.shape, y.shape,"
   ]
  },
  {
   "cell_type": "markdown",
   "id": "e05133fd-b53a-4717-b185-1ea1c6bd9585",
   "metadata": {},
   "source": [
    "## Preprocessing"
   ]
  },
  {
   "cell_type": "code",
   "execution_count": null,
   "id": "d3321805-a9f2-443f-889e-f40f64504541",
   "metadata": {},
   "outputs": [],
   "source": []
  },
  {
   "cell_type": "code",
   "execution_count": 4,
   "id": "19c0d2c8-f833-4304-9639-a175a4c8dea7",
   "metadata": {},
   "outputs": [],
   "source": [
    "\n",
    "from sklearn.model_selection import train_test_split, GridSearchCV\n",
    "from sklearn.pipeline import Pipeline\n",
    "from sklearn.linear_model import LogisticRegression\n",
    "from sklearn.preprocessing import StandardScaler\n",
    "from sklearn.metrics import accuracy_score, confusion_matrix, classification_report\n",
    "import numpy as np\n"
   ]
  },
  {
   "cell_type": "code",
   "execution_count": 5,
   "id": "ba86f08f-e3bb-4055-8a08-1896be913a22",
   "metadata": {},
   "outputs": [],
   "source": [
    "import numpy as np\n",
    "from sklearn.utils import resample\n",
    "\n",
    "def sample_dataset(X, y, sample_method, random_state=None):\n",
    "    \"\"\"\n",
    "    Perform up-sampling, down-sampling, or random shuffling on the dataset.\n",
    "\n",
    "    Parameters:\n",
    "    X: array-like, shape (n_samples, n_features)\n",
    "        The feature matrix.\n",
    "\n",
    "    y: array-like, shape (n_samples,)\n",
    "        The target array.\n",
    "\n",
    "    sample_method: str\n",
    "        The sampling method to apply: 'upsample', 'downsample', or 'shuffle'.\n",
    "\n",
    "    random_state: int or None, optional (default=None)\n",
    "        Random seed for reproducibility.\n",
    "\n",
    "    Returns:\n",
    "    X_sampled: array-like, shape (n_samples_sampled, n_features)\n",
    "        The sampled feature matrix.\n",
    "\n",
    "    y_sampled: array-like, shape (n_samples_sampled,)\n",
    "        The sampled target array.\n",
    "    \"\"\"\n",
    "    unique_labels, label_counts = np.unique(y, return_counts=True)\n",
    "    majority_label = unique_labels[np.argmax(label_counts)]\n",
    "    minority_label = unique_labels[np.argmin(label_counts)]\n",
    "\n",
    "    if sample_method == 'upsample':\n",
    "        X_sampled, y_sampled = upsample_dataset(X, y, majority_label, minority_label, random_state=random_state)\n",
    "    elif sample_method == 'downsample':\n",
    "        X_sampled, y_sampled = downsample_dataset(X, y, majority_label, minority_label, random_state=random_state)\n",
    "    elif sample_method == 'shuffle':\n",
    "        X_sampled, y_sampled = shuffle_dataset(X, y, random_state=random_state)\n",
    "    else:\n",
    "        raise ValueError(\"Invalid sample_method. Choose 'upsample', 'downsample', or 'shuffle'.\")\n",
    "\n",
    "    return X_sampled, y_sampled\n",
    "\n",
    "def upsample_dataset(X, y, majority_label, minority_label, random_state=None):\n",
    "    # Perform up-sampling on the dataset\n",
    "    X_majority = X[y == majority_label]\n",
    "    X_minority = X[y == minority_label]\n",
    "\n",
    "    X_minority_upsampled = resample(X_minority, replace=True, n_samples=X_majority.shape[0], random_state=random_state)\n",
    "    X_upsampled = np.vstack((X_majority, X_minority_upsampled))\n",
    "\n",
    "    y_majority = np.full(X_majority.shape[0], fill_value=majority_label)\n",
    "    y_minority_upsampled = np.full(X_minority_upsampled.shape[0], fill_value=minority_label)\n",
    "    y_upsampled = np.hstack((y_majority, y_minority_upsampled))\n",
    "\n",
    "    return X_upsampled, y_upsampled\n",
    "\n",
    "def downsample_dataset(X, y, majority_label, minority_label, random_state=None):\n",
    "    # Perform down-sampling on the dataset\n",
    "    X_majority = X[y == majority_label]\n",
    "    X_minority = X[y == minority_label]\n",
    "\n",
    "    X_majority_downsampled = resample(X_majority, replace=False, n_samples=X_minority.shape[0], random_state=random_state)\n",
    "    X_downsampled = np.vstack((X_majority_downsampled, X_minority))\n",
    "\n",
    "    y_majority_downsampled = np.full(X_majority_downsampled.shape[0], fill_value=majority_label)\n",
    "    y_minority = np.full(X_minority.shape[0], fill_value=minority_label)\n",
    "    y_downsampled = np.hstack((y_majority_downsampled, y_minority))\n",
    "\n",
    "    return X_downsampled, y_downsampled\n",
    "\n",
    "def shuffle_dataset(X, y, random_state=None):\n",
    "    # Perform random shuffling on the dataset\n",
    "    indices = np.arange(X.shape[0])  # Get the indices based on the number of rows in X\n",
    "    np.random.seed(random_state)\n",
    "    np.random.shuffle(indices)\n",
    "    \n",
    "    X_shuffled = X.iloc[indices,:]\n",
    "    y_shuffled = y[indices]\n",
    "    return X_shuffled, y_shuffled"
   ]
  },
  {
   "cell_type": "code",
   "execution_count": 6,
   "id": "fec6027a-dffe-47ec-a947-5aafe6e52866",
   "metadata": {},
   "outputs": [
    {
     "data": {
      "text/plain": [
       "(0.8295454545454546, 0.8295454545454546, (176, 624), (176,))"
      ]
     },
     "execution_count": 6,
     "metadata": {},
     "output_type": "execute_result"
    }
   ],
   "source": [
    "X_processed, y_processed = sample_dataset(X=X, y=y, sample_method=\"shuffle\", random_state=42)\n",
    "np.mean(y), np.mean(y_processed), X_processed.shape,  y_processed.shape"
   ]
  },
  {
   "cell_type": "code",
   "execution_count": 7,
   "id": "0cdda77a-7c6f-4824-a80c-1642fb999533",
   "metadata": {},
   "outputs": [],
   "source": [
    "from sklearn.preprocessing import LabelEncoder\n",
    "\n",
    "label_encoder = LabelEncoder()\n",
    "y_processed = label_encoder.fit_transform(y_processed)"
   ]
  },
  {
   "cell_type": "markdown",
   "id": "a1c0f25d-63c5-4d21-90dd-6d688e335369",
   "metadata": {},
   "source": [
    "## Train/Test Split"
   ]
  },
  {
   "cell_type": "code",
   "execution_count": 8,
   "id": "455f38b2-93ce-4274-9fa7-f77272c2d681",
   "metadata": {},
   "outputs": [],
   "source": [
    "X_train, X_test, y_train, y_test = train_test_split(X_processed, y_processed, test_size=0.2, random_state=42)"
   ]
  },
  {
   "cell_type": "markdown",
   "id": "1cbd057e-2775-4cf2-b949-ac90c2a7876d",
   "metadata": {},
   "source": [
    "## Pipeline"
   ]
  },
  {
   "cell_type": "code",
   "execution_count": null,
   "id": "ecc14fcd-c95d-42c6-82e5-f9240bce88f9",
   "metadata": {},
   "outputs": [],
   "source": [
    "from sklearn.model_selection import GridSearchCV, KFold, LeaveOneOut, StratifiedKFold\n",
    "from sklearn.metrics import accuracy_score, roc_curve, roc_auc_score\n",
    "from sklearn.linear_model import Lasso  # Import Lasso from sklearn.linear_model\n",
    "import matplotlib.pyplot as plt\n",
    "import warnings\n",
    "import seaborn as sns\n",
    "from sklearn.metrics import plot_roc_curve\n",
    "warnings.filterwarnings(\"ignore\")\n",
    "\n",
    "def train_test_evaluate(X_train, y_train, X_test, y_test):\n",
    "    # Train model with cross-validation for hyperparameter tuning\n",
    "    def train_model(X_train, y_train):\n",
    "        pipeline = Pipeline([\n",
    "        ('classifier', LogisticRegression(penalty='l1', solver='liblinear'))])\n",
    "\n",
    "        param_grid = {'C': np.logspace(-3, 3, 100)}\n",
    "        grid_search = GridSearchCV(LogisticRegression(penalty='l1', solver='liblinear'),\n",
    "                                   param_grid, \n",
    "                                   #cv=StratifiedKFold(n_splits=20, shuffle=True, random_state=42), \n",
    "                                   cv=LeaveOneOut(), \n",
    "                                   scoring='accuracy')\n",
    "        grid_search.fit(X_train, y_train)\n",
    "        \n",
    "        # plot C\n",
    "        plot_hyperparameter(grid_search=grid_search)\n",
    "        return grid_search.best_estimator_, grid_search.best_params_\n",
    "\n",
    "    # Test model and evaluate\n",
    "    def evaluate_model(model, X_test, y_test):\n",
    "        predictions = model.predict(X_test)\n",
    "        accuracy = accuracy_score(y_test, predictions)\n",
    "\n",
    "        fpr, tpr, _ = roc_curve(y_test, predictions)\n",
    "        auc = roc_auc_score(y_test, predictions) \n",
    "        \n",
    "        # plot roc\n",
    "        plot_roc(model, X_test, y_test)\n",
    "        \n",
    "        return accuracy, auc\n",
    "    \n",
    "    \n",
    "    def plot_hyperparameter(grid_search):\n",
    "        cv_results_ = pd.DataFrame({key: grid_search.cv_results_[key] for key in  ['param_C', 'mean_test_score']})\n",
    "\n",
    "        sns.lineplot(data=cv_results_, x='param_C', y='mean_test_score', marker='o')\n",
    "        plt.axvline(x=grid_search.best_params_[\"C\"], color='gray', linestyle='-.', label=f'Best Hyperparmeter = {grid_search.best_params_[\"C\"]}')\n",
    "        plt.text(grid_search.best_params_[\"C\"]* .1, plt.gca().get_ylim()[1] * 0.9, 'Best C = %.0f' % (grid_search.best_params_[\"C\"]), color='black')\n",
    "        plt.xscale('log') \n",
    "        plt.title('Hyperparameter (C) Tuning')\n",
    "        plt.show()\n",
    "        \n",
    "    def plot_roc(model, X_test, y_test):\n",
    "        plot_roc_curve(model, X_test, y_test)\n",
    "        plt.title('ROC Curve')\n",
    "        plt.show()\n",
    "        \n",
    "    \n",
    "    # Train with cross-validation and get best model\n",
    "    best_model, best_params = train_model(X_train, y_train)\n",
    "\n",
    "    # Test best model and evaluate\n",
    "    accuracy, auc = evaluate_model(best_model, X_test, y_test)\n",
    "\n",
    "    return best_model, best_params, accuracy, auc\n"
   ]
  },
  {
   "cell_type": "code",
   "execution_count": null,
   "id": "21d896c5-5c18-415f-94cc-0ec490afb090",
   "metadata": {},
   "outputs": [
    {
     "data": {
      "image/png": "[encoded data removed]",
      "text/plain": [
       "<Figure size 432x288 with 1 Axes>"
      ]
     },
     "metadata": {
      "needs_background": "light"
     },
     "output_type": "display_data"
    },
    {
     "data": {
      "image/png": "[encoded data removed]",
      "text/plain": [
       "<Figure size 432x288 with 1 Axes>"
      ]
     },
     "metadata": {
      "needs_background": "light"
     },
     "output_type": "display_data"
    }
   ],
   "source": [
    "best_model, best_params, accuracy, auc = train_test_evaluate(X_train, y_train, X_test, y_test)"
   ]
  },
  {
   "cell_type": "code",
   "execution_count": null,
   "id": "e7e1adba-9573-46fb-9582-3446a44abe7a",
   "metadata": {},
   "outputs": [
    {
     "name": "stdout",
     "output_type": "stream",
     "text": [
      ">>>>>>>>> MODEL RESULTS <<<<<<<<<\n",
      "\tBest Model: LogisticRegression(C=0.024770763559917114, penalty='l1', solver='liblinear')\n",
      "\tBest Parameters: {'C': 0.024770763559917114}\n",
      "\t------------------------\n",
      "\tMean Baseline: 82.9545%\n",
      "\tAccuracy: 0.8889\n",
      "\tAUC: 0.5000\n"
     ]
    }
   ],
   "source": [
    "print(\"%s MODEL RESULTS %s\" % (\">>>\" * 3, \"<<<\" * 3))\n",
    "print(\"\\tBest Model:\", best_model)\n",
    "print(\"\\tBest Parameters:\", best_params)\n",
    "print(\"\\t\"+\"---\"*8)\n",
    "print(f\"\\tMean Baseline: {np.mean(y) * 100:.4f}%\")\n",
    "print(f\"\\tAccuracy: {accuracy:.4f}\")\n",
    "print(f\"\\tAUC: {auc:.4f}\")\n"
   ]
  },
  {
   "cell_type": "code",
   "execution_count": null,
   "id": "a768c9bd-13de-4a5c-b71b-df8e96fa6f1c",
   "metadata": {},
   "outputs": [],
   "source": []
  },
  {
   "cell_type": "code",
   "execution_count": null,
   "id": "ab46b89c-cdcb-4f65-9a49-df18eadef668",
   "metadata": {},
   "outputs": [],
   "source": []
  },
  {
   "cell_type": "code",
   "execution_count": null,
   "id": "b224d73a-76d2-4e0c-9856-6b4616bfbe24",
   "metadata": {},
   "outputs": [],
   "source": []
  }
 ],
 "metadata": {
  "kernelspec": {
   "display_name": "Python 3",
   "language": "python",
   "name": "python3"
  },
  "language_info": {
   "codemirror_mode": {
    "name": "ipython",
    "version": 3
   },
   "file_extension": ".py",
   "mimetype": "text/x-python",
   "name": "python",
   "nbconvert_exporter": "python",
   "pygments_lexer": "ipython3",
   "version": "3.8.6"
  }
 },
 "nbformat": 4,
 "nbformat_minor": 5
}
